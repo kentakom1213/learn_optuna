{
 "cells": [
  {
   "attachments": {},
   "cell_type": "markdown",
   "metadata": {},
   "source": [
    "Optuna Tutorial\n",
    "\n",
    "# 二次関数の極値探索\n",
    "\n",
    "参考：[Quadratic Function Example](https://optuna.readthedocs.io/en/stable/tutorial/10_key_features/001_first.html)\n"
   ]
  },
  {
   "cell_type": "code",
   "execution_count": 11,
   "metadata": {},
   "outputs": [],
   "source": [
    "import optuna"
   ]
  },
  {
   "attachments": {},
   "cell_type": "markdown",
   "metadata": {},
   "source": [
    "### 最適化したい関数の定義\n",
    "\n",
    "$$\n",
    "f(x) = (x - 2)^2\n",
    "$$"
   ]
  },
  {
   "cell_type": "code",
   "execution_count": 12,
   "metadata": {},
   "outputs": [],
   "source": [
    "def objective(trial):\n",
    "    x = trial.suggest_float(\"x\", -10, 10)\n",
    "    return (x - 2) ** 2"
   ]
  },
  {
   "attachments": {},
   "cell_type": "markdown",
   "metadata": {},
   "source": [
    "### 最適化"
   ]
  },
  {
   "cell_type": "code",
   "execution_count": 13,
   "metadata": {},
   "outputs": [
    {
     "name": "stderr",
     "output_type": "stream",
     "text": [
      "[I 2023-07-06 19:02:48,760] A new study created in memory with name: no-name-abc1dfb2-b9f1-4efe-831e-5ba87afcbd81\n",
      "[I 2023-07-06 19:02:48,761] Trial 0 finished with value: 115.49401769712689 and parameters: {'x': -8.746814304580074}. Best is trial 0 with value: 115.49401769712689.\n",
      "[I 2023-07-06 19:02:48,762] Trial 1 finished with value: 20.013244431184862 and parameters: {'x': -2.4736164823534956}. Best is trial 1 with value: 20.013244431184862.\n",
      "[I 2023-07-06 19:02:48,763] Trial 2 finished with value: 7.092175544425612 and parameters: {'x': -0.6631138812348247}. Best is trial 2 with value: 7.092175544425612.\n",
      "[I 2023-07-06 19:02:48,763] Trial 3 finished with value: 3.158501852431189 and parameters: {'x': 3.777217446580803}. Best is trial 3 with value: 3.158501852431189.\n",
      "[I 2023-07-06 19:02:48,764] Trial 4 finished with value: 0.33655699236898173 and parameters: {'x': 1.4198646775372303}. Best is trial 4 with value: 0.33655699236898173.\n",
      "[I 2023-07-06 19:02:48,764] Trial 5 finished with value: 63.24711327316708 and parameters: {'x': 9.952805371261583}. Best is trial 4 with value: 0.33655699236898173.\n",
      "[I 2023-07-06 19:02:48,765] Trial 6 finished with value: 42.30923501171597 and parameters: {'x': -4.504554943400507}. Best is trial 4 with value: 0.33655699236898173.\n",
      "[I 2023-07-06 19:02:48,765] Trial 7 finished with value: 64.23265835396533 and parameters: {'x': -6.014527955779139}. Best is trial 4 with value: 0.33655699236898173.\n",
      "[I 2023-07-06 19:02:48,766] Trial 8 finished with value: 1.1563163893118897 and parameters: {'x': 3.0753215283401936}. Best is trial 4 with value: 0.33655699236898173.\n",
      "[I 2023-07-06 19:02:48,767] Trial 9 finished with value: 68.45210178556381 and parameters: {'x': -6.2735785356497225}. Best is trial 4 with value: 0.33655699236898173.\n",
      "[I 2023-07-06 19:02:48,770] Trial 10 finished with value: 0.06983917465557177 and parameters: {'x': 2.264271025001932}. Best is trial 10 with value: 0.06983917465557177.\n",
      "[I 2023-07-06 19:02:48,773] Trial 11 finished with value: 0.11770100972439226 and parameters: {'x': 2.3430758075475335}. Best is trial 10 with value: 0.06983917465557177.\n",
      "[I 2023-07-06 19:02:48,776] Trial 12 finished with value: 11.110727001486412 and parameters: {'x': 5.333275716391672}. Best is trial 10 with value: 0.06983917465557177.\n",
      "[I 2023-07-06 19:02:48,779] Trial 13 finished with value: 2.8027451387235165 and parameters: {'x': 0.32585988079745354}. Best is trial 10 with value: 0.06983917465557177.\n",
      "[I 2023-07-06 19:02:48,782] Trial 14 finished with value: 15.51371935248013 and parameters: {'x': 5.938745911134676}. Best is trial 10 with value: 0.06983917465557177.\n",
      "[I 2023-07-06 19:02:48,785] Trial 15 finished with value: 15.583192637160494 and parameters: {'x': -1.94755527347756}. Best is trial 10 with value: 0.06983917465557177.\n",
      "[I 2023-07-06 19:02:48,788] Trial 16 finished with value: 0.03994121370093335 and parameters: {'x': 1.8001470197847094}. Best is trial 16 with value: 0.03994121370093335.\n",
      "[I 2023-07-06 19:02:48,791] Trial 17 finished with value: 3.6405272476131274 and parameters: {'x': 0.09198342574988949}. Best is trial 16 with value: 0.03994121370093335.\n",
      "[I 2023-07-06 19:02:48,794] Trial 18 finished with value: 11.033504508197653 and parameters: {'x': 5.321671944698581}. Best is trial 16 with value: 0.03994121370093335.\n",
      "[I 2023-07-06 19:02:48,796] Trial 19 finished with value: 13.508208257276726 and parameters: {'x': -1.6753514467703257}. Best is trial 16 with value: 0.03994121370093335.\n",
      "[I 2023-07-06 19:02:48,799] Trial 20 finished with value: 0.7258921969972724 and parameters: {'x': 1.1480069266729498}. Best is trial 16 with value: 0.03994121370093335.\n",
      "[I 2023-07-06 19:02:48,801] Trial 21 finished with value: 0.3029776135635729 and parameters: {'x': 2.5504340228979063}. Best is trial 16 with value: 0.03994121370093335.\n",
      "[I 2023-07-06 19:02:48,804] Trial 22 finished with value: 0.028661345756181924 and parameters: {'x': 2.1692966206283573}. Best is trial 22 with value: 0.028661345756181924.\n",
      "[I 2023-07-06 19:02:48,807] Trial 23 finished with value: 3.7737755698510247 and parameters: {'x': 3.9426207992943514}. Best is trial 22 with value: 0.028661345756181924.\n",
      "[I 2023-07-06 19:02:48,810] Trial 24 finished with value: 0.2692767804801434 and parameters: {'x': 1.4810811426820727}. Best is trial 22 with value: 0.028661345756181924.\n",
      "[I 2023-07-06 19:02:48,813] Trial 25 finished with value: 5.4476394814253695 and parameters: {'x': -0.33401788369870244}. Best is trial 22 with value: 0.028661345756181924.\n",
      "[I 2023-07-06 19:02:48,817] Trial 26 finished with value: 25.882370079769164 and parameters: {'x': 7.087471875083848}. Best is trial 22 with value: 0.028661345756181924.\n",
      "[I 2023-07-06 19:02:48,821] Trial 27 finished with value: 3.220768179520516 and parameters: {'x': 3.794649876583317}. Best is trial 22 with value: 0.028661345756181924.\n",
      "[I 2023-07-06 19:02:48,826] Trial 28 finished with value: 0.14457562584158168 and parameters: {'x': 1.619768983588159}. Best is trial 22 with value: 0.028661345756181924.\n",
      "[I 2023-07-06 19:02:48,830] Trial 29 finished with value: 128.60786164654877 and parameters: {'x': -9.340540624086172}. Best is trial 22 with value: 0.028661345756181924.\n",
      "[I 2023-07-06 19:02:48,835] Trial 30 finished with value: 25.59560658425054 and parameters: {'x': -3.059210075125418}. Best is trial 22 with value: 0.028661345756181924.\n",
      "[I 2023-07-06 19:02:48,839] Trial 31 finished with value: 0.02598972246057261 and parameters: {'x': 2.1612132825190673}. Best is trial 31 with value: 0.02598972246057261.\n",
      "[I 2023-07-06 19:02:48,844] Trial 32 finished with value: 1.9969679863601875 and parameters: {'x': 0.5868588229195968}. Best is trial 31 with value: 0.02598972246057261.\n",
      "[I 2023-07-06 19:02:48,848] Trial 33 finished with value: 9.304980713169522 and parameters: {'x': -1.0504066471815725}. Best is trial 31 with value: 0.02598972246057261.\n",
      "[I 2023-07-06 19:02:48,855] Trial 34 finished with value: 0.328135675515287 and parameters: {'x': 2.5728312801473807}. Best is trial 31 with value: 0.02598972246057261.\n",
      "[I 2023-07-06 19:02:48,859] Trial 35 finished with value: 6.37529911214044 and parameters: {'x': -0.5249354669259252}. Best is trial 31 with value: 0.02598972246057261.\n",
      "[I 2023-07-06 19:02:48,863] Trial 36 finished with value: 0.41407970324831334 and parameters: {'x': 1.3565097489096565}. Best is trial 31 with value: 0.02598972246057261.\n",
      "[I 2023-07-06 19:02:48,865] Trial 37 finished with value: 2.3868979171940143 and parameters: {'x': 0.45504112766908444}. Best is trial 31 with value: 0.02598972246057261.\n",
      "[I 2023-07-06 19:02:48,868] Trial 38 finished with value: 3.2756385963245633 and parameters: {'x': 3.809872535933004}. Best is trial 31 with value: 0.02598972246057261.\n",
      "[I 2023-07-06 19:02:48,870] Trial 39 finished with value: 0.2773631244562011 and parameters: {'x': 2.5266527551016904}. Best is trial 31 with value: 0.02598972246057261.\n",
      "[I 2023-07-06 19:02:48,872] Trial 40 finished with value: 6.8774045171062825 and parameters: {'x': 4.622480603761691}. Best is trial 31 with value: 0.02598972246057261.\n",
      "[I 2023-07-06 19:02:48,875] Trial 41 finished with value: 0.13394175098099986 and parameters: {'x': 2.365980533609371}. Best is trial 31 with value: 0.02598972246057261.\n",
      "[I 2023-07-06 19:02:48,877] Trial 42 finished with value: 0.0954830819852355 and parameters: {'x': 2.3090033688897833}. Best is trial 31 with value: 0.02598972246057261.\n",
      "[I 2023-07-06 19:02:48,880] Trial 43 finished with value: 1.5513357855781988 and parameters: {'x': 3.2455263086656174}. Best is trial 31 with value: 0.02598972246057261.\n",
      "[I 2023-07-06 19:02:48,883] Trial 44 finished with value: 0.09488412435854254 and parameters: {'x': 1.6919673323192124}. Best is trial 31 with value: 0.02598972246057261.\n",
      "[I 2023-07-06 19:02:48,885] Trial 45 finished with value: 1.8820392499643441 and parameters: {'x': 0.6281256435211189}. Best is trial 31 with value: 0.02598972246057261.\n",
      "[I 2023-07-06 19:02:48,887] Trial 46 finished with value: 0.054019758087327945 and parameters: {'x': 1.7675784904804894}. Best is trial 31 with value: 0.02598972246057261.\n",
      "[I 2023-07-06 19:02:48,889] Trial 47 finished with value: 1.5306275110026482 and parameters: {'x': 3.237185317970856}. Best is trial 31 with value: 0.02598972246057261.\n",
      "[I 2023-07-06 19:02:48,892] Trial 48 finished with value: 8.654992174246296 and parameters: {'x': -0.9419368066371336}. Best is trial 31 with value: 0.02598972246057261.\n",
      "[I 2023-07-06 19:02:48,894] Trial 49 finished with value: 4.4299325805209415 and parameters: {'x': -0.1047405019433969}. Best is trial 31 with value: 0.02598972246057261.\n",
      "[I 2023-07-06 19:02:48,897] Trial 50 finished with value: 1.044221688216187 and parameters: {'x': 0.9781283406336259}. Best is trial 31 with value: 0.02598972246057261.\n",
      "[I 2023-07-06 19:02:48,900] Trial 51 finished with value: 0.0012814404671783136 and parameters: {'x': 1.964202786879726}. Best is trial 51 with value: 0.0012814404671783136.\n",
      "[I 2023-07-06 19:02:48,902] Trial 52 finished with value: 0.018580765728855336 and parameters: {'x': 1.8636887175291226}. Best is trial 51 with value: 0.0012814404671783136.\n",
      "[I 2023-07-06 19:02:48,905] Trial 53 finished with value: 0.036690111548574114 and parameters: {'x': 1.8084533697801652}. Best is trial 51 with value: 0.0012814404671783136.\n",
      "[I 2023-07-06 19:02:48,907] Trial 54 finished with value: 1.1906577293493514 and parameters: {'x': 3.091172639571462}. Best is trial 51 with value: 0.0012814404671783136.\n",
      "[I 2023-07-06 19:02:48,910] Trial 55 finished with value: 1.0151621188450342 and parameters: {'x': 0.992447461000155}. Best is trial 51 with value: 0.0012814404671783136.\n",
      "[I 2023-07-06 19:02:48,913] Trial 56 finished with value: 2.9179638971101833 and parameters: {'x': 0.29179512437465993}. Best is trial 51 with value: 0.0012814404671783136.\n",
      "[I 2023-07-06 19:02:48,916] Trial 57 finished with value: 6.292038768047732 and parameters: {'x': 4.50839366289419}. Best is trial 51 with value: 0.0012814404671783136.\n",
      "[I 2023-07-06 19:02:48,919] Trial 58 finished with value: 0.02106028861498121 and parameters: {'x': 1.8548783661372943}. Best is trial 51 with value: 0.0012814404671783136.\n",
      "[I 2023-07-06 19:02:48,921] Trial 59 finished with value: 1.5387823691201643 and parameters: {'x': 3.2404766701232894}. Best is trial 51 with value: 0.0012814404671783136.\n",
      "[I 2023-07-06 19:02:48,924] Trial 60 finished with value: 0.010663521398998269 and parameters: {'x': 2.103264327814586}. Best is trial 51 with value: 0.0012814404671783136.\n",
      "[I 2023-07-06 19:02:48,927] Trial 61 finished with value: 0.00013555602202545703 and parameters: {'x': 1.9883571471698103}. Best is trial 61 with value: 0.00013555602202545703.\n",
      "[I 2023-07-06 19:02:48,930] Trial 62 finished with value: 0.9625981018172091 and parameters: {'x': 1.0188791604408716}. Best is trial 61 with value: 0.00013555602202545703.\n",
      "[I 2023-07-06 19:02:48,933] Trial 63 finished with value: 0.6010224187081931 and parameters: {'x': 2.7752563567673554}. Best is trial 61 with value: 0.00013555602202545703.\n",
      "[I 2023-07-06 19:02:48,935] Trial 64 finished with value: 0.013251588931664202 and parameters: {'x': 1.8848844539965857}. Best is trial 61 with value: 0.00013555602202545703.\n",
      "[I 2023-07-06 19:02:48,938] Trial 65 finished with value: 4.328231667341743 and parameters: {'x': -0.08044025805639121}. Best is trial 61 with value: 0.00013555602202545703.\n",
      "[I 2023-07-06 19:02:48,940] Trial 66 finished with value: 0.002337866876673775 and parameters: {'x': 1.9516485069860943}. Best is trial 61 with value: 0.00013555602202545703.\n",
      "[I 2023-07-06 19:02:48,943] Trial 67 finished with value: 0.7101323363199604 and parameters: {'x': 1.1573064991825555}. Best is trial 61 with value: 0.00013555602202545703.\n",
      "[I 2023-07-06 19:02:48,945] Trial 68 finished with value: 0.006680331347965858 and parameters: {'x': 1.918266706000762}. Best is trial 61 with value: 0.00013555602202545703.\n",
      "[I 2023-07-06 19:02:48,948] Trial 69 finished with value: 1.0367799399206898 and parameters: {'x': 3.0182239144317373}. Best is trial 61 with value: 0.00013555602202545703.\n",
      "[I 2023-07-06 19:02:48,951] Trial 70 finished with value: 5.264540459607486 and parameters: {'x': 4.294458641947482}. Best is trial 61 with value: 0.00013555602202545703.\n",
      "[I 2023-07-06 19:02:48,954] Trial 71 finished with value: 0.02186256225484617 and parameters: {'x': 2.147859941346012}. Best is trial 61 with value: 0.00013555602202545703.\n",
      "[I 2023-07-06 19:02:48,957] Trial 72 finished with value: 0.15844082331011733 and parameters: {'x': 1.6019537422483194}. Best is trial 61 with value: 0.00013555602202545703.\n",
      "[I 2023-07-06 19:02:48,959] Trial 73 finished with value: 2.2609646455368364 and parameters: {'x': 0.49634956005831055}. Best is trial 61 with value: 0.00013555602202545703.\n",
      "[I 2023-07-06 19:02:48,963] Trial 74 finished with value: 0.0015941549610500117 and parameters: {'x': 1.9600731298365373}. Best is trial 61 with value: 0.00013555602202545703.\n",
      "[I 2023-07-06 19:02:48,966] Trial 75 finished with value: 2.7658310178639254 and parameters: {'x': 3.663078776806416}. Best is trial 61 with value: 0.00013555602202545703.\n",
      "[I 2023-07-06 19:02:48,969] Trial 76 finished with value: 0.4895494232583057 and parameters: {'x': 2.69967808544952}. Best is trial 61 with value: 0.00013555602202545703.\n",
      "[I 2023-07-06 19:02:48,971] Trial 77 finished with value: 5.656322372029647 and parameters: {'x': -0.3783024139141027}. Best is trial 61 with value: 0.00013555602202545703.\n",
      "[I 2023-07-06 19:02:48,974] Trial 78 finished with value: 1.0278586948000883 and parameters: {'x': 0.9861663377061856}. Best is trial 61 with value: 0.00013555602202545703.\n",
      "[I 2023-07-06 19:02:48,977] Trial 79 finished with value: 0.0009216954497909133 and parameters: {'x': 2.030359437573692}. Best is trial 61 with value: 0.00013555602202545703.\n",
      "[I 2023-07-06 19:02:48,980] Trial 80 finished with value: 2.4332797420670054 and parameters: {'x': 3.5598973498493436}. Best is trial 61 with value: 0.00013555602202545703.\n",
      "[I 2023-07-06 19:02:48,983] Trial 81 finished with value: 0.49621365306291615 and parameters: {'x': 2.704424341617264}. Best is trial 61 with value: 0.00013555602202545703.\n",
      "[I 2023-07-06 19:02:48,986] Trial 82 finished with value: 0.06971663677515809 and parameters: {'x': 2.264039081908641}. Best is trial 61 with value: 0.00013555602202545703.\n",
      "[I 2023-07-06 19:02:48,988] Trial 83 finished with value: 0.3177249297924229 and parameters: {'x': 1.4363290589426994}. Best is trial 61 with value: 0.00013555602202545703.\n",
      "[I 2023-07-06 19:02:48,990] Trial 84 finished with value: 0.007941791698196424 and parameters: {'x': 2.0891167307423046}. Best is trial 61 with value: 0.00013555602202545703.\n",
      "[I 2023-07-06 19:02:48,993] Trial 85 finished with value: 1.503969612838542 and parameters: {'x': 0.7736356117211565}. Best is trial 61 with value: 0.00013555602202545703.\n",
      "[I 2023-07-06 19:02:48,996] Trial 86 finished with value: 3.0572268551077713 and parameters: {'x': 0.2515072619230667}. Best is trial 61 with value: 0.00013555602202545703.\n",
      "[I 2023-07-06 19:02:48,998] Trial 87 finished with value: 0.4180184567965708 and parameters: {'x': 1.353456531394392}. Best is trial 61 with value: 0.00013555602202545703.\n",
      "[I 2023-07-06 19:02:49,000] Trial 88 finished with value: 0.7939157518923912 and parameters: {'x': 2.8910195014097004}. Best is trial 61 with value: 0.00013555602202545703.\n",
      "[I 2023-07-06 19:02:49,003] Trial 89 finished with value: 0.021321337353233348 and parameters: {'x': 2.146018277462903}. Best is trial 61 with value: 0.00013555602202545703.\n",
      "[I 2023-07-06 19:02:49,005] Trial 90 finished with value: 2.433186262724544 and parameters: {'x': 3.5598673862622245}. Best is trial 61 with value: 0.00013555602202545703.\n",
      "[I 2023-07-06 19:02:49,008] Trial 91 finished with value: 0.0045984305558246135 and parameters: {'x': 1.932188271251762}. Best is trial 61 with value: 0.00013555602202545703.\n",
      "[I 2023-07-06 19:02:49,010] Trial 92 finished with value: 0.004849748198222154 and parameters: {'x': 2.0696401335310477}. Best is trial 61 with value: 0.00013555602202545703.\n",
      "[I 2023-07-06 19:02:49,013] Trial 93 finished with value: 0.4671888330520193 and parameters: {'x': 1.3164878691259245}. Best is trial 61 with value: 0.00013555602202545703.\n",
      "[I 2023-07-06 19:02:49,016] Trial 94 finished with value: 0.07577101189394747 and parameters: {'x': 2.275265348153282}. Best is trial 61 with value: 0.00013555602202545703.\n",
      "[I 2023-07-06 19:02:49,018] Trial 95 finished with value: 1.7617831956405603 and parameters: {'x': 0.6726781868587557}. Best is trial 61 with value: 0.00013555602202545703.\n",
      "[I 2023-07-06 19:02:49,021] Trial 96 finished with value: 0.35593822354741783 and parameters: {'x': 2.5966055845761233}. Best is trial 61 with value: 0.00013555602202545703.\n",
      "[I 2023-07-06 19:02:49,024] Trial 97 finished with value: 4.85551192202902 and parameters: {'x': 4.203522616636603}. Best is trial 61 with value: 0.00013555602202545703.\n",
      "[I 2023-07-06 19:02:49,026] Trial 98 finished with value: 1.3775786891481234 and parameters: {'x': 3.173702981655974}. Best is trial 61 with value: 0.00013555602202545703.\n",
      "[I 2023-07-06 19:02:49,029] Trial 99 finished with value: 3.411024078054808 and parameters: {'x': 0.15310420487380827}. Best is trial 61 with value: 0.00013555602202545703.\n"
     ]
    }
   ],
   "source": [
    "study = optuna.create_study()\n",
    "study.optimize(objective, n_trials=100)"
   ]
  },
  {
   "attachments": {},
   "cell_type": "markdown",
   "metadata": {},
   "source": [
    "### 求まったパラメータ"
   ]
  },
  {
   "cell_type": "code",
   "execution_count": 14,
   "metadata": {},
   "outputs": [
    {
     "name": "stdout",
     "output_type": "stream",
     "text": [
      "Found x: 1.9883571471698103, (x - 2)^2: 0.00013555602202545703\n"
     ]
    }
   ],
   "source": [
    "best_params = study.best_params\n",
    "found_x = best_params[\"x\"]\n",
    "print(\"Found x: {}, (x - 2)^2: {}\".format(found_x, (found_x - 2) ** 2))"
   ]
  }
 ],
 "metadata": {
  "kernelspec": {
   "display_name": ".env",
   "language": "python",
   "name": "python3"
  },
  "language_info": {
   "codemirror_mode": {
    "name": "ipython",
    "version": 3
   },
   "file_extension": ".py",
   "mimetype": "text/x-python",
   "name": "python",
   "nbconvert_exporter": "python",
   "pygments_lexer": "ipython3",
   "version": "3.10.9"
  },
  "orig_nbformat": 4
 },
 "nbformat": 4,
 "nbformat_minor": 2
}
