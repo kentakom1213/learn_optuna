{
 "cells": [
  {
   "attachments": {},
   "cell_type": "markdown",
   "metadata": {},
   "source": [
    "Optuna Tutorial\n",
    "\n",
    "# Pythonic Search Space\n",
    "\n",
    "参考：[Pythonic Search Space](https://optuna.readthedocs.io/en/stable/tutorial/10_key_features/002_configurations.html)"
   ]
  },
  {
   "cell_type": "code",
   "execution_count": 3,
   "metadata": {},
   "outputs": [],
   "source": [
    "import optuna\n",
    "\n",
    "\n",
    "def objective(trial):\n",
    "    # Categorical parameter\n",
    "    optimizer = trial.suggest_categorical(\"optimizer\", [\"MomentumSGD\", \"Adam\"])\n",
    "\n",
    "    # Integer parameter\n",
    "    num_layers = trial.suggest_int(\"num_layers\", 1, 3)\n",
    "\n",
    "    # Integer parameter (log)\n",
    "    num_channels = trial.suggest_int(\"num_channels\", 32, 512, log=True)\n",
    "\n",
    "    # Integer parameter (discretized)\n",
    "    num_units = trial.suggest_int(\"num_units\", 10, 100, step=5)\n",
    "\n",
    "    # Floating point parameter\n",
    "    dropout_rate = trial.suggest_float(\"dropout_rate\", 0.0, 1.0)\n",
    "\n",
    "    # Floating point parameter (log)\n",
    "    learning_rate = trial.suggest_float(\"learning_rate\", 1e-5, 1e-2, log=True)\n",
    "\n",
    "    # Floating point parameter (discretized)\n",
    "    drop_path_rate = trial.suggest_float(\"drop_path_rate\", 0.0, 1.0, step=0.1)"
   ]
  },
  {
   "attachments": {},
   "cell_type": "markdown",
   "metadata": {},
   "source": [
    "詳しくは以下を参照\n",
    "\n",
    "https://github.com/optuna/optuna-examples/"
   ]
  }
 ],
 "metadata": {
  "kernelspec": {
   "display_name": ".env",
   "language": "python",
   "name": "python3"
  },
  "language_info": {
   "codemirror_mode": {
    "name": "ipython",
    "version": 3
   },
   "file_extension": ".py",
   "mimetype": "text/x-python",
   "name": "python",
   "nbconvert_exporter": "python",
   "pygments_lexer": "ipython3",
   "version": "3.10.9"
  },
  "orig_nbformat": 4
 },
 "nbformat": 4,
 "nbformat_minor": 2
}
